{
 "cells": [
  {
   "cell_type": "code",
   "execution_count": 7,
   "metadata": {
    "collapsed": false
   },
   "outputs": [],
   "source": [
    "import torch\n",
    "import matchbox\n",
    "from torch import nn\n",
    "from torch.nn import functional as F\n",
    "from torchtext import data, datasets\n",
    "from matchbox.data import MaskedBatchField"
   ]
  },
  {
   "cell_type": "code",
   "execution_count": 8,
   "metadata": {
    "collapsed": true
   },
   "outputs": [],
   "source": [
    "TEXT = MaskedBatchField(batch_first=True)\n",
    "train, dev, test = datasets.IWSLT.splits(('.de', '.en'), (TEXT, TEXT))\n",
    "TEXT.build_vocab(train)\n",
    "dev_iter = data.Iterator(dev, batch_size=4, device=-1, shuffle=False, sort=True, repeat=False)"
   ]
  },
  {
   "cell_type": "code",
   "execution_count": 9,
   "metadata": {
    "collapsed": false
   },
   "outputs": [
    {
     "name": "stdout",
     "output_type": "stream",
     "text": [
      "MaskedBatch (True,) with:\n",
      " data: Variable containing:\n",
      "    60     17   1477\n",
      "   437   1876   5524\n",
      " 16570     24  53093\n",
      " 24199    943      0\n",
      "[torch.LongTensor of size 4x3]\n",
      "\n",
      " mask: Variable containing:\n",
      " 1  1  1\n",
      " 1  1  1\n",
      " 1  1  1\n",
      " 1  1  0\n",
      "[torch.LongTensor of size 4x3]\n",
      "\n",
      "MaskedBatch (True,) with:\n",
      " data: Variable containing:\n",
      "   343    236   1038\n",
      "   415    473   2138\n",
      " 26785   2911      0\n",
      " 82312    350    298\n",
      "[torch.LongTensor of size 4x3]\n",
      "\n",
      " mask: Variable containing:\n",
      " 1  1  1\n",
      " 1  1  1\n",
      " 1  1  0\n",
      " 1  1  1\n",
      "[torch.LongTensor of size 4x3]\n",
      "\n"
     ]
    }
   ],
   "source": [
    "batch = list(dev_iter)[5]\n",
    "print(batch.src)\n",
    "print(batch.trg)"
   ]
  },
  {
   "cell_type": "code",
   "execution_count": 10,
   "metadata": {
    "collapsed": false
   },
   "outputs": [
    {
     "name": "stdout",
     "output_type": "stream",
     "text": [
      "MaskedBatch (True, False) with:\n",
      " data: Variable containing:\n",
      "(0 ,.,.) = \n",
      "  2.4444 -3.2256 -0.7363 -0.8431 -1.6497 -0.0764  0.0299  0.8066\n",
      " -0.3451  1.0012 -0.8611 -0.0799  1.1851 -0.9093  0.1243  0.1627\n",
      "  0.0059  0.2839 -0.7120 -1.3900  1.3094  0.3581  0.8182  0.5630\n",
      "\n",
      "(1 ,.,.) = \n",
      "  1.3210  1.5820  0.7448 -1.4880 -0.2247  0.7374  0.8837 -1.4849\n",
      " -1.5257 -0.5993 -0.8784  0.7393  1.0647 -1.3780  1.9431 -0.3812\n",
      " -0.4972  0.7124  0.8384 -0.2372  1.0253 -0.4328  2.1098  1.0806\n",
      "\n",
      "(2 ,.,.) = \n",
      "  0.6512  1.4799 -1.3044 -0.7127  0.5442 -0.1782  0.8608 -0.3888\n",
      " -0.9716 -0.7143  0.1118 -0.5444 -0.9741  1.0346 -0.8547  0.7575\n",
      "  0.7516 -1.2743 -0.2951 -0.4151 -1.6204  0.9836  0.5326  1.1599\n",
      "\n",
      "(3 ,.,.) = \n",
      " -1.8505 -1.3849  0.4641 -0.6601  0.5085  1.1711  1.7459  1.6988\n",
      "  0.4792  0.4383 -0.1869 -0.4333 -0.5630 -1.8269  0.2497  0.2229\n",
      " -0.0000  0.0000 -0.0000  0.0000  0.0000 -0.0000 -0.0000 -0.0000\n",
      "[torch.FloatTensor of size 4x3x8]\n",
      "\n",
      " mask: Variable containing:\n",
      "(0 ,.,.) = \n",
      "  1\n",
      "  1\n",
      "  1\n",
      "\n",
      "(1 ,.,.) = \n",
      "  1\n",
      "  1\n",
      "  1\n",
      "\n",
      "(2 ,.,.) = \n",
      "  1\n",
      "  1\n",
      "  1\n",
      "\n",
      "(3 ,.,.) = \n",
      "  1\n",
      "  1\n",
      "  0\n",
      "[torch.FloatTensor of size 4x3x1]\n",
      "\n",
      "MaskedBatch (True, False) with:\n",
      " data: Variable containing:\n",
      "(0 ,.,.) = \n",
      " -2.6564 -0.7750 -2.6380  1.3098 -1.5721 -1.4584  0.7011 -0.9399\n",
      " -0.5780 -1.0095  0.1116 -0.5131 -0.3490 -0.3502  0.1626 -0.0530\n",
      "  0.9588  0.6299 -2.4309 -1.2570  2.0082 -0.8944 -0.9838 -1.3512\n",
      "\n",
      "(1 ,.,.) = \n",
      " -1.1703 -0.3845 -1.0439 -1.6687 -0.8720 -0.4812 -0.7961  0.7898\n",
      " -1.8831  0.5299  2.4343 -0.4224  0.6227 -0.2405 -0.2700  0.5444\n",
      " -1.7405 -0.5453  0.4123 -1.0234 -1.6220 -0.1250 -1.4596  1.0032\n",
      "\n",
      "(2 ,.,.) = \n",
      "  0.2169  0.0556 -0.3118 -1.4243 -0.3008  0.3892 -1.0368 -0.3976\n",
      " -1.5866  0.0420 -0.6319  1.8201 -0.2087 -0.1740 -1.0973 -1.3871\n",
      " -0.0000  0.0000 -0.0000  0.0000  0.0000 -0.0000 -0.0000 -0.0000\n",
      "\n",
      "(3 ,.,.) = \n",
      " -0.6339 -0.5192 -0.8001 -2.9418  0.2522 -1.2752  1.5713  0.0383\n",
      " -1.4300  0.8514 -0.9741  0.2343 -0.8910 -1.2521 -0.9400 -0.4813\n",
      " -0.2792  0.4254  0.3026  1.8298 -0.0457 -0.8113 -3.0003 -0.4121\n",
      "[torch.FloatTensor of size 4x3x8]\n",
      "\n",
      " mask: Variable containing:\n",
      "(0 ,.,.) = \n",
      "  1\n",
      "  1\n",
      "  1\n",
      "\n",
      "(1 ,.,.) = \n",
      "  1\n",
      "  1\n",
      "  1\n",
      "\n",
      "(2 ,.,.) = \n",
      "  1\n",
      "  1\n",
      "  0\n",
      "\n",
      "(3 ,.,.) = \n",
      "  1\n",
      "  1\n",
      "  1\n",
      "[torch.FloatTensor of size 4x3x1]\n",
      "\n"
     ]
    }
   ],
   "source": [
    "embed = nn.Embedding(len(TEXT.vocab), 8)\n",
    "src = embed(batch.src)\n",
    "trg = embed(batch.trg)\n",
    "print(src)\n",
    "print(trg)"
   ]
  },
  {
   "cell_type": "code",
   "execution_count": 11,
   "metadata": {
    "collapsed": false
   },
   "outputs": [
    {
     "name": "stdout",
     "output_type": "stream",
     "text": [
      "MaskedBatch (True, True) with:\n",
      " data: Variable containing:\n",
      "(0 ,.,.) = \n",
      " -1.1876  2.7584 -1.2024\n",
      "  1.7051 -0.9500  5.3445\n",
      " -2.7143 -0.1355  4.4059\n",
      "\n",
      "(1 ,.,.) = \n",
      " -2.4840 -0.5720 -3.8392\n",
      " -0.4141  0.3672 -2.9099\n",
      " -1.6834  4.2161 -2.5391\n",
      "\n",
      "(2 ,.,.) = \n",
      "  0.6744 -1.9318  0.0000\n",
      "  1.7707  0.3603  0.0000\n",
      "  0.6322 -3.8415  0.0000\n",
      "\n",
      "(3 ,.,.) = \n",
      "  4.9061 -3.5177 -8.0516\n",
      "  3.4813  2.2154 -0.1299\n",
      "  0.0000  0.0000  0.0000\n",
      "[torch.FloatTensor of size 4x3x3]\n",
      "\n",
      " mask: Variable containing:\n",
      "(0 ,.,.) = \n",
      "  1  1  1\n",
      "  1  1  1\n",
      "  1  1  1\n",
      "\n",
      "(1 ,.,.) = \n",
      "  1  1  1\n",
      "  1  1  1\n",
      "  1  1  1\n",
      "\n",
      "(2 ,.,.) = \n",
      "  1  1  0\n",
      "  1  1  0\n",
      "  1  1  0\n",
      "\n",
      "(3 ,.,.) = \n",
      "  1  1  1\n",
      "  1  1  1\n",
      "  0  0  0\n",
      "[torch.FloatTensor of size 4x3x3]\n",
      "\n"
     ]
    }
   ],
   "source": [
    "alphas = src @ trg.transpose(1, 2)\n",
    "print(alphas)"
   ]
  },
  {
   "cell_type": "code",
   "execution_count": 12,
   "metadata": {
    "collapsed": false
   },
   "outputs": [
    {
     "name": "stdout",
     "output_type": "stream",
     "text": [
      "MaskedBatch (True, False) with:\n",
      " data: Variable containing:\n",
      "(0 ,.,.) = \n",
      "  0.0186  0.9630  0.0183\n",
      "  0.0255  0.0018  0.9727\n",
      "  0.0008  0.0105  0.9887\n",
      "\n",
      "(1 ,.,.) = \n",
      "  0.1246  0.8432  0.0321\n",
      "  0.3061  0.6686  0.0252\n",
      "  0.0027  0.9961  0.0012\n",
      "\n",
      "(2 ,.,.) = \n",
      "  0.9313  0.0687  0.0000\n",
      "  0.8038  0.1962  0.0000\n",
      "  0.9887  0.0113  0.0000\n",
      "\n",
      "(3 ,.,.) = \n",
      "  0.9998  0.0002  0.0000\n",
      "  0.7640  0.2154  0.0206\n",
      "  0.0000  0.0000  0.0000\n",
      "[torch.FloatTensor of size 4x3x3]\n",
      "\n",
      " mask: Variable containing:\n",
      "(0 ,.,.) = \n",
      "  1\n",
      "  1\n",
      "  1\n",
      "\n",
      "(1 ,.,.) = \n",
      "  1\n",
      "  1\n",
      "  1\n",
      "\n",
      "(2 ,.,.) = \n",
      "  1\n",
      "  1\n",
      "  1\n",
      "\n",
      "(3 ,.,.) = \n",
      "  1\n",
      "  1\n",
      "  0\n",
      "[torch.FloatTensor of size 4x3x1]\n",
      "\n"
     ]
    }
   ],
   "source": [
    "attns = F.softmax(alphas, -1)\n",
    "print(attns)"
   ]
  },
  {
   "cell_type": "code",
   "execution_count": null,
   "metadata": {
    "collapsed": true
   },
   "outputs": [],
   "source": []
  }
 ],
 "metadata": {
  "kernelspec": {
   "display_name": "Python 3",
   "language": "python",
   "name": "python3"
  },
  "language_info": {
   "codemirror_mode": {
    "name": "ipython",
    "version": 3
   },
   "file_extension": ".py",
   "mimetype": "text/x-python",
   "name": "python",
   "nbconvert_exporter": "python",
   "pygments_lexer": "ipython3",
   "version": "3.5.2"
  }
 },
 "nbformat": 4,
 "nbformat_minor": 1
}
